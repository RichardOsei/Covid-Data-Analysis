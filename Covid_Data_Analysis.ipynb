{
 "cells": [
  {
   "cell_type": "markdown",
   "metadata": {},
   "source": [
    "<center>\n",
    "<h1> COVID 19 WORLD DATA ANALYSIS</h1>\n",
    "</center>"
   ]
  },
  {
   "cell_type": "code",
   "execution_count": null,
   "metadata": {},
   "outputs": [],
   "source": [
    "import numpy as np  \n",
    "import pandas as pd"
   ]
  },
  {
   "cell_type": "markdown",
   "metadata": {},
   "source": [
    "<h3>Reading data into Pandas Dataframe</h3>\n",
    "\n",
    "Dataset: Our Word In Data - [Coronavirus Pandemic Data](https://ourworldindata.org/coronavirus)<br>\n",
    "The dataset contains global covid 19 case census.\n"
   ]
  },
  {
   "cell_type": "code",
   "execution_count": null,
   "metadata": {},
   "outputs": [],
   "source": [
    "death_data = pd.read_csv('covid-death-data.csv')\n",
    "death_data.fillna(0)"
   ]
  },
  {
   "cell_type": "code",
   "execution_count": null,
   "metadata": {},
   "outputs": [],
   "source": [
    "vacination_data = pd.read_csv('covid-vacination-data.csv')\n",
    "vacination_data.fillna(0)"
   ]
  },
  {
   "cell_type": "markdown",
   "metadata": {},
   "source": [
    "Cleaning unnecesarry columns for this analysis"
   ]
  },
  {
   "cell_type": "code",
   "execution_count": 6,
   "metadata": {},
   "outputs": [],
   "source": [
    "death_data=death_data[death_data[\"location\"].str.contains(\"World\")==False]\n",
    "death_data=death_data[death_data[\"location\"].str.contains(\"Upper middle income\")==False]\n",
    "death_data=death_data[death_data[\"location\"].str.contains(\"High income\")==False]\n",
    "death_data=death_data[death_data[\"location\"].str.contains(\"Europe\")==False]\n",
    "death_data=death_data[death_data[\"location\"].str.contains(\"Africa\")==False]\n",
    "death_data=death_data[death_data[\"location\"].str.contains(\"Asia\")==False]\n",
    "death_data=death_data[death_data[\"location\"].str.contains(\"South America\")==False]\n",
    "death_data=death_data[death_data[\"location\"].str.contains(\"North America\")==False]\n",
    "death_data=death_data[death_data[\"location\"].str.contains(\"Lower middle income\")==False]"
   ]
  },
  {
   "cell_type": "code",
   "execution_count": 7,
   "metadata": {},
   "outputs": [],
   "source": [
    "vacination_data=vacination_data[vacination_data[\"location\"].str.contains(\"World\")==False]\n",
    "vacination_data=vacination_data[vacination_data[\"location\"].str.contains(\"High income\")==False]\n",
    "vacination_data=vacination_data[vacination_data[\"location\"].str.contains(\"Upper middle income\")==False]\n",
    "vacination_data=vacination_data[vacination_data[\"location\"].str.contains(\"Lower middle income\")==False]\n",
    "vacination_data=vacination_data[vacination_data[\"location\"].str.contains(\"Africa\")==False]\n",
    "vacination_data=vacination_data[vacination_data[\"location\"].str.contains(\"Asia\")==False]\n",
    "vacination_data=vacination_data[vacination_data[\"location\"].str.contains(\"Europe\")==False]\n",
    "vacination_data=vacination_data[vacination_data[\"location\"].str.contains(\"North America\")==False]\n",
    "vacination_data=vacination_data[vacination_data[\"location\"].str.contains(\"South America\")==False]"
   ]
  },
  {
   "cell_type": "markdown",
   "metadata": {},
   "source": [
    "<center>\n",
    "<h2> DEATH CENCUS ANALYSIS</h2>\n",
    "</center>"
   ]
  },
  {
   "cell_type": "markdown",
   "metadata": {},
   "source": [
    "Selecting Columns for Analysis"
   ]
  },
  {
   "cell_type": "code",
   "execution_count": 8,
   "metadata": {},
   "outputs": [
    {
     "data": {
      "text/html": [
       "<div>\n",
       "<style scoped>\n",
       "    .dataframe tbody tr th:only-of-type {\n",
       "        vertical-align: middle;\n",
       "    }\n",
       "\n",
       "    .dataframe tbody tr th {\n",
       "        vertical-align: top;\n",
       "    }\n",
       "\n",
       "    .dataframe thead th {\n",
       "        text-align: right;\n",
       "    }\n",
       "</style>\n",
       "<table border=\"1\" class=\"dataframe\">\n",
       "  <thead>\n",
       "    <tr style=\"text-align: right;\">\n",
       "      <th></th>\n",
       "      <th>continent</th>\n",
       "      <th>location</th>\n",
       "      <th>date</th>\n",
       "      <th>total_cases</th>\n",
       "      <th>new_cases</th>\n",
       "      <th>total_deaths</th>\n",
       "      <th>population</th>\n",
       "    </tr>\n",
       "  </thead>\n",
       "  <tbody>\n",
       "    <tr>\n",
       "      <th>0</th>\n",
       "      <td>Asia</td>\n",
       "      <td>Afghanistan</td>\n",
       "      <td>24/02/2020</td>\n",
       "      <td>5.0</td>\n",
       "      <td>5.0</td>\n",
       "      <td>0.0</td>\n",
       "      <td>39835428.0</td>\n",
       "    </tr>\n",
       "    <tr>\n",
       "      <th>1</th>\n",
       "      <td>Asia</td>\n",
       "      <td>Afghanistan</td>\n",
       "      <td>25/02/2020</td>\n",
       "      <td>5.0</td>\n",
       "      <td>0.0</td>\n",
       "      <td>0.0</td>\n",
       "      <td>39835428.0</td>\n",
       "    </tr>\n",
       "    <tr>\n",
       "      <th>2</th>\n",
       "      <td>Asia</td>\n",
       "      <td>Afghanistan</td>\n",
       "      <td>26/02/2020</td>\n",
       "      <td>5.0</td>\n",
       "      <td>0.0</td>\n",
       "      <td>0.0</td>\n",
       "      <td>39835428.0</td>\n",
       "    </tr>\n",
       "    <tr>\n",
       "      <th>3</th>\n",
       "      <td>Asia</td>\n",
       "      <td>Afghanistan</td>\n",
       "      <td>27/02/2020</td>\n",
       "      <td>5.0</td>\n",
       "      <td>0.0</td>\n",
       "      <td>0.0</td>\n",
       "      <td>39835428.0</td>\n",
       "    </tr>\n",
       "    <tr>\n",
       "      <th>4</th>\n",
       "      <td>Asia</td>\n",
       "      <td>Afghanistan</td>\n",
       "      <td>28/02/2020</td>\n",
       "      <td>5.0</td>\n",
       "      <td>0.0</td>\n",
       "      <td>0.0</td>\n",
       "      <td>39835428.0</td>\n",
       "    </tr>\n",
       "    <tr>\n",
       "      <th>...</th>\n",
       "      <td>...</td>\n",
       "      <td>...</td>\n",
       "      <td>...</td>\n",
       "      <td>...</td>\n",
       "      <td>...</td>\n",
       "      <td>...</td>\n",
       "      <td>...</td>\n",
       "    </tr>\n",
       "    <tr>\n",
       "      <th>187092</th>\n",
       "      <td>Africa</td>\n",
       "      <td>Zimbabwe</td>\n",
       "      <td>12/05/2022</td>\n",
       "      <td>248943.0</td>\n",
       "      <td>301.0</td>\n",
       "      <td>5481.0</td>\n",
       "      <td>15092171.0</td>\n",
       "    </tr>\n",
       "    <tr>\n",
       "      <th>187093</th>\n",
       "      <td>Africa</td>\n",
       "      <td>Zimbabwe</td>\n",
       "      <td>13/05/2022</td>\n",
       "      <td>249131.0</td>\n",
       "      <td>188.0</td>\n",
       "      <td>5482.0</td>\n",
       "      <td>15092171.0</td>\n",
       "    </tr>\n",
       "    <tr>\n",
       "      <th>187094</th>\n",
       "      <td>Africa</td>\n",
       "      <td>Zimbabwe</td>\n",
       "      <td>14/05/2022</td>\n",
       "      <td>249206.0</td>\n",
       "      <td>75.0</td>\n",
       "      <td>5482.0</td>\n",
       "      <td>15092171.0</td>\n",
       "    </tr>\n",
       "    <tr>\n",
       "      <th>187095</th>\n",
       "      <td>Africa</td>\n",
       "      <td>Zimbabwe</td>\n",
       "      <td>15/05/2022</td>\n",
       "      <td>249206.0</td>\n",
       "      <td>0.0</td>\n",
       "      <td>5482.0</td>\n",
       "      <td>15092171.0</td>\n",
       "    </tr>\n",
       "    <tr>\n",
       "      <th>187096</th>\n",
       "      <td>Africa</td>\n",
       "      <td>Zimbabwe</td>\n",
       "      <td>16/05/2022</td>\n",
       "      <td>249431.0</td>\n",
       "      <td>225.0</td>\n",
       "      <td>5484.0</td>\n",
       "      <td>15092171.0</td>\n",
       "    </tr>\n",
       "  </tbody>\n",
       "</table>\n",
       "<p>177069 rows × 7 columns</p>\n",
       "</div>"
      ],
      "text/plain": [
       "       continent     location        date  total_cases  new_cases  \\\n",
       "0           Asia  Afghanistan  24/02/2020          5.0        5.0   \n",
       "1           Asia  Afghanistan  25/02/2020          5.0        0.0   \n",
       "2           Asia  Afghanistan  26/02/2020          5.0        0.0   \n",
       "3           Asia  Afghanistan  27/02/2020          5.0        0.0   \n",
       "4           Asia  Afghanistan  28/02/2020          5.0        0.0   \n",
       "...          ...          ...         ...          ...        ...   \n",
       "187092    Africa     Zimbabwe  12/05/2022     248943.0      301.0   \n",
       "187093    Africa     Zimbabwe  13/05/2022     249131.0      188.0   \n",
       "187094    Africa     Zimbabwe  14/05/2022     249206.0       75.0   \n",
       "187095    Africa     Zimbabwe  15/05/2022     249206.0        0.0   \n",
       "187096    Africa     Zimbabwe  16/05/2022     249431.0      225.0   \n",
       "\n",
       "        total_deaths  population  \n",
       "0                0.0  39835428.0  \n",
       "1                0.0  39835428.0  \n",
       "2                0.0  39835428.0  \n",
       "3                0.0  39835428.0  \n",
       "4                0.0  39835428.0  \n",
       "...              ...         ...  \n",
       "187092        5481.0  15092171.0  \n",
       "187093        5482.0  15092171.0  \n",
       "187094        5482.0  15092171.0  \n",
       "187095        5482.0  15092171.0  \n",
       "187096        5484.0  15092171.0  \n",
       "\n",
       "[177069 rows x 7 columns]"
      ]
     },
     "execution_count": 8,
     "metadata": {},
     "output_type": "execute_result"
    }
   ],
   "source": [
    "death_data_sample = death_data[['continent','location','date','total_cases','new_cases','total_deaths','population']]\n",
    "death_data_sample.fillna(0)"
   ]
  },
  {
   "cell_type": "markdown",
   "metadata": {},
   "source": [
    "Total Cases vs Total Deaths<br>\n",
    "* Shows probability of dying if you contract covid in your country"
   ]
  },
  {
   "cell_type": "code",
   "execution_count": null,
   "metadata": {},
   "outputs": [],
   "source": [
    "death_percentage = (death_data_sample['total_deaths']/death_data_sample['total_cases'])*100\n",
    "death_percentage.fillna(0)"
   ]
  },
  {
   "cell_type": "markdown",
   "metadata": {},
   "source": [
    "Total Cases vs Population\n",
    "Shows what percentage of population infected with Covid"
   ]
  },
  {
   "cell_type": "code",
   "execution_count": null,
   "metadata": {},
   "outputs": [],
   "source": [
    "death_data_sample['case_percentage_per_population'] = (death_data_sample['total_cases']/death_data_sample['population'])*100\n",
    "death_data_sample.fillna(0)"
   ]
  },
  {
   "cell_type": "markdown",
   "metadata": {},
   "source": [
    "Countries with Highest Infection Rate compared to Population"
   ]
  },
  {
   "cell_type": "code",
   "execution_count": null,
   "metadata": {},
   "outputs": [],
   "source": [
    "death_data_sample.sort_values(by='case_percentage_per_population',ascending=False)\n"
   ]
  },
  {
   "cell_type": "markdown",
   "metadata": {},
   "source": [
    "Countries with Highest Death Count per Population"
   ]
  },
  {
   "cell_type": "code",
   "execution_count": null,
   "metadata": {},
   "outputs": [],
   "source": [
    "death_data_sample.sort_values(by='total_deaths',ascending=False)\n"
   ]
  },
  {
   "cell_type": "markdown",
   "metadata": {},
   "source": [
    "<h3>Continent Analysis</h3>\n",
    "\n",
    "Showing contintents with the highest death count per population"
   ]
  },
  {
   "cell_type": "code",
   "execution_count": null,
   "metadata": {},
   "outputs": [],
   "source": [
    "continent_death_count = death_data_sample.groupby(\"continent\")[\"total_deaths\"].sum()\n",
    "continent_death_count.sort_values(ascending=False)"
   ]
  },
  {
   "cell_type": "markdown",
   "metadata": {},
   "source": [
    "Total cases VS Total Death for each continent"
   ]
  },
  {
   "cell_type": "code",
   "execution_count": null,
   "metadata": {},
   "outputs": [],
   "source": [
    "death_percentage_for_continents =(death_data_sample.groupby(\"continent\")[\"total_deaths\"].sum() / death_data_sample.groupby(\"continent\")[\"total_cases\"].sum())*100\n",
    "death_percentage_for_continents.sort_values(ascending=False)"
   ]
  },
  {
   "cell_type": "markdown",
   "metadata": {},
   "source": [
    "Global Numbers"
   ]
  },
  {
   "cell_type": "code",
   "execution_count": null,
   "metadata": {},
   "outputs": [],
   "source": [
    "global_death_percentage = "
   ]
  },
  {
   "cell_type": "markdown",
   "metadata": {},
   "source": [
    "<center>\n",
    "<h2> VACINATION CENCUS ANALYSIS</h2>\n",
    "</center>"
   ]
  },
  {
   "cell_type": "markdown",
   "metadata": {},
   "source": [
    "Selecting Columns for Analysis"
   ]
  },
  {
   "cell_type": "code",
   "execution_count": null,
   "metadata": {},
   "outputs": [],
   "source": [
    "vacination_data_sample = vacination_data[['continent','location','date','population','new_vaccinations']]"
   ]
  },
  {
   "cell_type": "markdown",
   "metadata": {},
   "source": [
    "Total Population vs Vaccinations\n",
    "* Shows Percentage of Population that has recieved at least one Covid Vaccine"
   ]
  },
  {
   "cell_type": "code",
   "execution_count": null,
   "metadata": {},
   "outputs": [],
   "source": []
  },
  {
   "cell_type": "markdown",
   "metadata": {},
   "source": []
  }
 ],
 "metadata": {
  "interpreter": {
   "hash": "a8c9a0f063b84121a29dc18058e3ab3ab773676936e4cc323b0ecc17092f5012"
  },
  "kernelspec": {
   "display_name": "Python 3.10.3 64-bit",
   "language": "python",
   "name": "python3"
  },
  "language_info": {
   "codemirror_mode": {
    "name": "ipython",
    "version": 3
   },
   "file_extension": ".py",
   "mimetype": "text/x-python",
   "name": "python",
   "nbconvert_exporter": "python",
   "pygments_lexer": "ipython3",
   "version": "3.10.3"
  },
  "orig_nbformat": 4
 },
 "nbformat": 4,
 "nbformat_minor": 2
}
