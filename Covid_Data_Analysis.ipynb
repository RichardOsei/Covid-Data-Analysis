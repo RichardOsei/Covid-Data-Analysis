{
 "cells": [
  {
   "cell_type": "markdown",
   "metadata": {},
   "source": [
    "<center>\n",
    "<h1> COVID 19 WORLD DATA ANALYSIS</h1>\n",
    "</center>"
   ]
  },
  {
   "cell_type": "code",
   "execution_count": null,
   "metadata": {},
   "outputs": [],
   "source": [
    "import numpy as np  \n",
    "import pandas as pd"
   ]
  },
  {
   "cell_type": "markdown",
   "metadata": {},
   "source": [
    "<h3>Reading data into Pandas Dataframe</h3>\n",
    "\n",
    "* Dataset: Our Word In Data - [Coronavirus Pandemic Data](https://ourworldindata.org/coronavirus)<br>\n",
    "* The dataset contains global covid 19 case census.\n"
   ]
  },
  {
   "cell_type": "code",
   "execution_count": null,
   "metadata": {},
   "outputs": [],
   "source": [
    "death_data = pd.read_csv('covid-death-data.csv')\n",
    "death_data=death_data.dropna(subset=['continent','location'])\n",
    "death_data = death_data.fillna(0)"
   ]
  },
  {
   "cell_type": "code",
   "execution_count": null,
   "metadata": {},
   "outputs": [],
   "source": [
    "vacination_data = pd.read_csv('covid-vacination-data.csv')\n",
    "vacination_data=vacination_data.dropna(subset=['continent','location'])\n",
    "vacination_data=vacination_data.fillna(0)\n"
   ]
  },
  {
   "cell_type": "markdown",
   "metadata": {},
   "source": [
    "* Cleaning unnecesarry columns for this analysis"
   ]
  },
  {
   "cell_type": "code",
   "execution_count": null,
   "metadata": {},
   "outputs": [],
   "source": [
    "death_data=death_data[death_data[\"location\"].str.contains(\"World\")==False]\n",
    "death_data=death_data[death_data[\"location\"].str.contains(\"Upper middle income\")==False]\n",
    "death_data=death_data[death_data[\"location\"].str.contains(\"High income\")==False]\n",
    "death_data=death_data[death_data[\"location\"].str.contains(\"Europe\")==False]\n",
    "death_data=death_data[death_data[\"location\"].str.contains(\"Africa\")==False]\n",
    "death_data=death_data[death_data[\"location\"].str.contains(\"Asia\")==False]\n",
    "death_data=death_data[death_data[\"location\"].str.contains(\"South America\")==False]\n",
    "death_data=death_data[death_data[\"location\"].str.contains(\"North America\")==False]\n",
    "death_data=death_data[death_data[\"location\"].str.contains(\"Lower middle income\")==False]"
   ]
  },
  {
   "cell_type": "code",
   "execution_count": null,
   "metadata": {},
   "outputs": [],
   "source": [
    "vacination_data=vacination_data[vacination_data[\"location\"].str.contains(\"World\")==False]\n",
    "vacination_data=vacination_data[vacination_data[\"location\"].str.contains(\"High income\")==False]\n",
    "vacination_data=vacination_data[vacination_data[\"location\"].str.contains(\"Upper middle income\")==False]\n",
    "vacination_data=vacination_data[vacination_data[\"location\"].str.contains(\"Lower middle income\")==False]\n",
    "vacination_data=vacination_data[vacination_data[\"location\"].str.contains(\"Africa\")==False]\n",
    "vacination_data=vacination_data[vacination_data[\"location\"].str.contains(\"Asia\")==False]\n",
    "vacination_data=vacination_data[vacination_data[\"location\"].str.contains(\"Europe\")==False]\n",
    "vacination_data=vacination_data[vacination_data[\"location\"].str.contains(\"North America\")==False]\n",
    "vacination_data=vacination_data[vacination_data[\"location\"].str.contains(\"South America\")==False]"
   ]
  },
  {
   "cell_type": "markdown",
   "metadata": {},
   "source": [
    "<center>\n",
    "<h2> CASE AND DEATH CENCUS ANALYSIS</h2>\n",
    "</center>"
   ]
  },
  {
   "cell_type": "markdown",
   "metadata": {},
   "source": [
    "* Selecting Columns for Analysis"
   ]
  },
  {
   "cell_type": "code",
   "execution_count": null,
   "metadata": {},
   "outputs": [],
   "source": [
    "death_data = death_data[['continent','location','date','total_cases','new_cases','total_deaths','new_deaths','population']]\n",
    "death_data\n"
   ]
  },
  {
   "cell_type": "markdown",
   "metadata": {},
   "source": [
    "\n",
    "<h3>Total Cases vs Population </h3>\n",
    "\n",
    "* Shows what percentage of population infected with Covid per day."
   ]
  },
  {
   "cell_type": "code",
   "execution_count": null,
   "metadata": {},
   "outputs": [],
   "source": [
    "death_data['infection_rate_per_day']=(death_data['total_cases']/death_data['population'])*100\n",
    "death_data[['location','population','total_cases','infection_rate_per_day']]"
   ]
  },
  {
   "cell_type": "markdown",
   "metadata": {},
   "source": [
    "* Shows countries with Highest Infection Rate per their Population"
   ]
  },
  {
   "cell_type": "code",
   "execution_count": null,
   "metadata": {},
   "outputs": [],
   "source": [
    "highest_infection_rate_population = pd.DataFrame()\n",
    "highest_infection_rate_population['populations'] = death_data.groupby(\"location\")['population'].last()\n",
    "highest_infection_rate_population['total_cases'] = death_data.groupby(\"location\")['new_cases'].sum()\n",
    "highest_infection_rate_population['highest_infection_rate_population']=death_data.groupby(\"location\")[\"infection_rate_per_day\"].last()\n",
    "highest_infection_rate_population=highest_infection_rate_population.reset_index()\n",
    "highest_infection_rate_population.sort_values(by=['highest_infection_rate_population'], ascending=False)"
   ]
  },
  {
   "cell_type": "markdown",
   "metadata": {},
   "source": [
    "* Shows countries with Highest number of cases"
   ]
  },
  {
   "cell_type": "code",
   "execution_count": 48,
   "metadata": {},
   "outputs": [
    {
     "data": {
      "text/html": [
       "<div>\n",
       "<style scoped>\n",
       "    .dataframe tbody tr th:only-of-type {\n",
       "        vertical-align: middle;\n",
       "    }\n",
       "\n",
       "    .dataframe tbody tr th {\n",
       "        vertical-align: top;\n",
       "    }\n",
       "\n",
       "    .dataframe thead th {\n",
       "        text-align: right;\n",
       "    }\n",
       "</style>\n",
       "<table border=\"1\" class=\"dataframe\">\n",
       "  <thead>\n",
       "    <tr style=\"text-align: right;\">\n",
       "      <th></th>\n",
       "      <th>location</th>\n",
       "      <th>populations</th>\n",
       "      <th>total_cases</th>\n",
       "    </tr>\n",
       "  </thead>\n",
       "  <tbody>\n",
       "    <tr>\n",
       "      <th>216</th>\n",
       "      <td>United States</td>\n",
       "      <td>3.329151e+08</td>\n",
       "      <td>82613619.0</td>\n",
       "    </tr>\n",
       "    <tr>\n",
       "      <th>91</th>\n",
       "      <td>India</td>\n",
       "      <td>1.393409e+09</td>\n",
       "      <td>43125370.0</td>\n",
       "    </tr>\n",
       "    <tr>\n",
       "      <th>27</th>\n",
       "      <td>Brazil</td>\n",
       "      <td>2.139934e+08</td>\n",
       "      <td>30596818.0</td>\n",
       "    </tr>\n",
       "    <tr>\n",
       "      <th>69</th>\n",
       "      <td>France</td>\n",
       "      <td>6.742200e+07</td>\n",
       "      <td>29667631.0</td>\n",
       "    </tr>\n",
       "    <tr>\n",
       "      <th>74</th>\n",
       "      <td>Germany</td>\n",
       "      <td>8.390047e+07</td>\n",
       "      <td>25818461.0</td>\n",
       "    </tr>\n",
       "    <tr>\n",
       "      <th>...</th>\n",
       "      <td>...</td>\n",
       "      <td>...</td>\n",
       "      <td>...</td>\n",
       "    </tr>\n",
       "    <tr>\n",
       "      <th>150</th>\n",
       "      <td>Northern Cyprus</td>\n",
       "      <td>0.000000e+00</td>\n",
       "      <td>0.0</td>\n",
       "    </tr>\n",
       "    <tr>\n",
       "      <th>147</th>\n",
       "      <td>Niue</td>\n",
       "      <td>1.614000e+03</td>\n",
       "      <td>0.0</td>\n",
       "    </tr>\n",
       "    <tr>\n",
       "      <th>139</th>\n",
       "      <td>Nauru</td>\n",
       "      <td>1.087300e+04</td>\n",
       "      <td>0.0</td>\n",
       "    </tr>\n",
       "    <tr>\n",
       "      <th>82</th>\n",
       "      <td>Guernsey</td>\n",
       "      <td>6.338500e+04</td>\n",
       "      <td>0.0</td>\n",
       "    </tr>\n",
       "    <tr>\n",
       "      <th>101</th>\n",
       "      <td>Jersey</td>\n",
       "      <td>1.010730e+05</td>\n",
       "      <td>0.0</td>\n",
       "    </tr>\n",
       "  </tbody>\n",
       "</table>\n",
       "<p>229 rows × 3 columns</p>\n",
       "</div>"
      ],
      "text/plain": [
       "            location   populations  total_cases\n",
       "216    United States  3.329151e+08   82613619.0\n",
       "91             India  1.393409e+09   43125370.0\n",
       "27            Brazil  2.139934e+08   30596818.0\n",
       "69            France  6.742200e+07   29667631.0\n",
       "74           Germany  8.390047e+07   25818461.0\n",
       "..               ...           ...          ...\n",
       "150  Northern Cyprus  0.000000e+00          0.0\n",
       "147             Niue  1.614000e+03          0.0\n",
       "139            Nauru  1.087300e+04          0.0\n",
       "82          Guernsey  6.338500e+04          0.0\n",
       "101           Jersey  1.010730e+05          0.0\n",
       "\n",
       "[229 rows x 3 columns]"
      ]
     },
     "execution_count": 48,
     "metadata": {},
     "output_type": "execute_result"
    }
   ],
   "source": [
    "infections = pd.DataFrame()\n",
    "infections['populations'] = death_data.groupby(\"location\")['population'].last()\n",
    "infections['total_cases'] = death_data.groupby(\"location\")['new_cases'].sum()\n",
    "infections=infections.reset_index()\n",
    "infections.sort_values(by=['total_cases'], ascending=False)"
   ]
  },
  {
   "cell_type": "markdown",
   "metadata": {},
   "source": [
    "<h3>Total Cases vs Total Deaths</h3>\n",
    "\n",
    "* Shows probability of dying if infected with covid as of that day.\n",
    "\n"
   ]
  },
  {
   "cell_type": "code",
   "execution_count": null,
   "metadata": {},
   "outputs": [],
   "source": [
    "death_data['death_rate'] = (death_data['total_deaths']/death_data['total_cases'])*100\n",
    "death_data[['date','location','population','total_cases','total_deaths','death_rate']]\n"
   ]
  },
  {
   "cell_type": "markdown",
   "metadata": {},
   "source": [
    "* Shows countries with Highest Death Count per Population"
   ]
  },
  {
   "cell_type": "code",
   "execution_count": null,
   "metadata": {},
   "outputs": [],
   "source": [
    "country_death_count = death_data.groupby([\"location\",\"population\"])[\"new_deaths\"].sum()\n",
    "country_death_count.sort_values(ascending=False)"
   ]
  },
  {
   "cell_type": "markdown",
   "metadata": {},
   "source": [
    "<h3>Continent Analysis</h3>\n",
    "\n",
    "* Showing contintents with the highest death count per population"
   ]
  },
  {
   "cell_type": "code",
   "execution_count": null,
   "metadata": {},
   "outputs": [],
   "source": [
    "continent_death_count = pd.DataFrame()\n",
    "continent_death_count['total_cases']=death_data.groupby(['continent'])['new_cases'].sum()\n",
    "continent_death_count['number_of_death']=death_data.groupby(['continent'])['new_deaths'].sum()\n",
    "continent_death_count['death_rate_per_population']=(death_data.groupby(\"continent\")[\"new_deaths\"].sum() / death_data.groupby(\"continent\")[\"new_cases\"].sum())*100\n",
    "continent_death_count = continent_death_count.reset_index()\n",
    "continent_death_count"
   ]
  },
  {
   "cell_type": "markdown",
   "metadata": {},
   "source": [
    "<h3> Global Death Numbers </h3>"
   ]
  },
  {
   "cell_type": "code",
   "execution_count": null,
   "metadata": {},
   "outputs": [],
   "source": [
    "global_death_percentage = (death_data['new_deaths'].sum()/death_data['new_cases'].sum())*100\n",
    "print(\"Total Cases : \",death_data['new_cases'].sum(),\"\\nTotal Deaths : \",death_data['new_deaths'].sum(),\"\\nDeath Percentage : \",global_death_percentage)"
   ]
  },
  {
   "cell_type": "markdown",
   "metadata": {},
   "source": [
    "<center>\n",
    "<h2> VACINATION CENCUS ANALYSIS</h2>\n",
    "</center>"
   ]
  },
  {
   "cell_type": "markdown",
   "metadata": {},
   "source": [
    "* Selecting Columns for Analysis"
   ]
  },
  {
   "cell_type": "code",
   "execution_count": null,
   "metadata": {},
   "outputs": [],
   "source": [
    "vacination_data = vacination_data[['continent','location','date','population','new_vaccinations','people_fully_vaccinated']]\n",
    "vacination_data.replace([np.inf, -np.inf], np.nan, inplace=True)\n",
    "vacination_data.fillna(0).head()"
   ]
  },
  {
   "cell_type": "markdown",
   "metadata": {},
   "source": [
    "<h3>Total Population vs Vaccinations(CONTINENT)</h3>\n",
    "\n",
    "* Shows Percentage of Population that has recieved at least one Covid Vaccine"
   ]
  },
  {
   "cell_type": "code",
   "execution_count": null,
   "metadata": {},
   "outputs": [],
   "source": [
    "continent_vaccination =(vacination_data.groupby(\"continent\")[\"new_vaccinations\"].sum() / vacination_data.groupby(\"continent\")[\"population\"].sum())*100\n",
    "continent_vaccination.sort_values(ascending=False)"
   ]
  },
  {
   "cell_type": "markdown",
   "metadata": {},
   "source": []
  },
  {
   "cell_type": "markdown",
   "metadata": {},
   "source": [
    "<h3>Total Population vs Vaccinations(Country)</h3>\n",
    "\n",
    "* Shows Percentage of Population that has recieved at least one Covid Vaccine"
   ]
  },
  {
   "cell_type": "code",
   "execution_count": null,
   "metadata": {},
   "outputs": [],
   "source": [
    "country_vaccination = (vacination_data.groupby(\"location\")[\"new_vaccinations\"].sum() / vacination_data.groupby(\"location\")[\"population\"].sum())*100\n",
    "country_vaccination.replace([np.inf, -np.inf], np.nan, inplace=True)\n",
    "country_vaccination.sort_values(ascending=False).head()"
   ]
  },
  {
   "cell_type": "markdown",
   "metadata": {},
   "source": [
    "<h3>Gobal Numbers</h3>"
   ]
  },
  {
   "cell_type": "code",
   "execution_count": null,
   "metadata": {},
   "outputs": [],
   "source": [
    "global_total_vacination = vacination_data[\"new_vaccinations\"].sum()"
   ]
  },
  {
   "cell_type": "markdown",
   "metadata": {},
   "source": [
    "<center><h2>Creating tables for Visualization</h2></center>"
   ]
  },
  {
   "cell_type": "code",
   "execution_count": null,
   "metadata": {},
   "outputs": [],
   "source": [
    "#Getting Countries and their population\n",
    "country = pd.DataFrame()\n",
    "country[\"population\"] = death_data.groupby(\"location\")[\"population\"].last()\n",
    "country =country.reset_index()\n",
    "country"
   ]
  },
  {
   "cell_type": "code",
   "execution_count": null,
   "metadata": {},
   "outputs": [],
   "source": [
    "populations = country['population'].sum()\n",
    "all_vacs = vacination_data['people_fully_vaccinated'].max()\n",
    "print(populations,'\\n',all_vacs)"
   ]
  },
  {
   "cell_type": "markdown",
   "metadata": {},
   "source": [
    "* World Table"
   ]
  },
  {
   "cell_type": "code",
   "execution_count": null,
   "metadata": {},
   "outputs": [],
   "source": [
    "world_table = pd.DataFrame()\n",
    "world_table[\"Population\"]=[country[\"population\"].sum()]\n",
    "world_table[\"Total Cases\"]= [death_data['new_cases'].sum()]\n",
    "world_table[\"Total Deaths\"]=[death_data[\"new_deaths\"].sum()]\n",
    "world_table[\"Percentage of Death\"] = [global_death_percentage]\n",
    "world_table[\"Total Vaccinated\"] = [vacination_data['people_fully_vaccinated'].sum()]\n",
    "world_table[\"Percentage Vacinated\"] = [(global_total_vacination/country[\"population\"].sum())]\n",
    "world_table"
   ]
  },
  {
   "cell_type": "markdown",
   "metadata": {},
   "source": [
    "* Continent Table"
   ]
  },
  {
   "cell_type": "code",
   "execution_count": null,
   "metadata": {},
   "outputs": [],
   "source": [
    "continent_table = pd.DataFrame()\n",
    "continent_table = continent_death_count.reset_index()\n",
    "continent_table"
   ]
  },
  {
   "cell_type": "markdown",
   "metadata": {},
   "source": [
    "* Country Table"
   ]
  },
  {
   "cell_type": "code",
   "execution_count": null,
   "metadata": {},
   "outputs": [],
   "source": [
    "country_table = pd.DataFrame()\n",
    "country_table['cases'] =death_data.groupby(\"location\")[\"total_cases\"].max()\n",
    "country_table=country_table.reset_index()\n",
    "country_table['population'] = country['population']\n",
    "country_table['percentagePerPopulation']=(country_table['cases']/country_table['population'])*100\n",
    "country_table=country_table.fillna(0)\n",
    "country_table.sort_values(by=['percentagePerPopulation'], ascending=False)"
   ]
  },
  {
   "cell_type": "code",
   "execution_count": null,
   "metadata": {},
   "outputs": [],
   "source": [
    "world_table.to_csv('globaldata.csv')\n",
    "continent_table.to_csv('continentdata.csv')\n",
    "country_table.to_csv('countrydata.csv')"
   ]
  }
 ],
 "metadata": {
  "interpreter": {
   "hash": "a8c9a0f063b84121a29dc18058e3ab3ab773676936e4cc323b0ecc17092f5012"
  },
  "kernelspec": {
   "display_name": "Python 3.10.3 64-bit",
   "language": "python",
   "name": "python3"
  },
  "language_info": {
   "codemirror_mode": {
    "name": "ipython",
    "version": 3
   },
   "file_extension": ".py",
   "mimetype": "text/x-python",
   "name": "python",
   "nbconvert_exporter": "python",
   "pygments_lexer": "ipython3",
   "version": "3.10.3"
  },
  "orig_nbformat": 4
 },
 "nbformat": 4,
 "nbformat_minor": 2
}
