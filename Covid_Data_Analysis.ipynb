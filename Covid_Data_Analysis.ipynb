{
 "cells": [
  {
   "cell_type": "markdown",
   "metadata": {},
   "source": [
    "<center>\n",
    "<h1> COVID 19 WORLD DATA ANALYSIS</h1>\n",
    "</center>"
   ]
  },
  {
   "cell_type": "code",
   "execution_count": null,
   "metadata": {},
   "outputs": [],
   "source": [
    "import numpy as np  \n",
    "import pandas as pd"
   ]
  },
  {
   "cell_type": "markdown",
   "metadata": {},
   "source": [
    "<h3>Reading data into Pandas Dataframe</h3>\n",
    "\n",
    "* Dataset: Our Word In Data - [Coronavirus Pandemic Data](https://ourworldindata.org/coronavirus)<br>\n",
    "* The dataset contains global covid 19 case census.\n"
   ]
  },
  {
   "cell_type": "code",
   "execution_count": null,
   "metadata": {},
   "outputs": [],
   "source": [
    "death_data = pd.read_csv('covid-death-data.csv')\n",
    "death_data.dropna(subset=['continent','location']).head()"
   ]
  },
  {
   "cell_type": "code",
   "execution_count": null,
   "metadata": {},
   "outputs": [],
   "source": [
    "vacination_data = pd.read_csv('covid-vacination-data.csv')\n",
    "death_data.dropna(subset=['continent','location']).head()"
   ]
  },
  {
   "cell_type": "markdown",
   "metadata": {},
   "source": [
    "* Cleaning unnecesarry columns for this analysis"
   ]
  },
  {
   "cell_type": "code",
   "execution_count": null,
   "metadata": {},
   "outputs": [],
   "source": [
    "death_data=death_data[death_data[\"location\"].str.contains(\"World\")==False]\n",
    "death_data=death_data[death_data[\"location\"].str.contains(\"Upper middle income\")==False]\n",
    "death_data=death_data[death_data[\"location\"].str.contains(\"High income\")==False]\n",
    "death_data=death_data[death_data[\"location\"].str.contains(\"Europe\")==False]\n",
    "death_data=death_data[death_data[\"location\"].str.contains(\"Africa\")==False]\n",
    "death_data=death_data[death_data[\"location\"].str.contains(\"Asia\")==False]\n",
    "death_data=death_data[death_data[\"location\"].str.contains(\"South America\")==False]\n",
    "death_data=death_data[death_data[\"location\"].str.contains(\"North America\")==False]\n",
    "death_data=death_data[death_data[\"location\"].str.contains(\"Lower middle income\")==False]"
   ]
  },
  {
   "cell_type": "code",
   "execution_count": null,
   "metadata": {},
   "outputs": [],
   "source": [
    "vacination_data=vacination_data[vacination_data[\"location\"].str.contains(\"World\")==False]\n",
    "vacination_data=vacination_data[vacination_data[\"location\"].str.contains(\"High income\")==False]\n",
    "vacination_data=vacination_data[vacination_data[\"location\"].str.contains(\"Upper middle income\")==False]\n",
    "vacination_data=vacination_data[vacination_data[\"location\"].str.contains(\"Lower middle income\")==False]\n",
    "vacination_data=vacination_data[vacination_data[\"location\"].str.contains(\"Africa\")==False]\n",
    "vacination_data=vacination_data[vacination_data[\"location\"].str.contains(\"Asia\")==False]\n",
    "vacination_data=vacination_data[vacination_data[\"location\"].str.contains(\"Europe\")==False]\n",
    "vacination_data=vacination_data[vacination_data[\"location\"].str.contains(\"North America\")==False]\n",
    "vacination_data=vacination_data[vacination_data[\"location\"].str.contains(\"South America\")==False]"
   ]
  },
  {
   "cell_type": "markdown",
   "metadata": {},
   "source": [
    "<center>\n",
    "<h2> DEATH CENCUS ANALYSIS</h2>\n",
    "</center>"
   ]
  },
  {
   "cell_type": "markdown",
   "metadata": {},
   "source": [
    "* Selecting Columns for Analysis"
   ]
  },
  {
   "cell_type": "code",
   "execution_count": null,
   "metadata": {},
   "outputs": [],
   "source": [
    "death_data = death_data[['continent','location','date','total_cases','new_cases','total_deaths','new_deaths','population']]\n",
    "death_data.fillna(0).head()"
   ]
  },
  {
   "cell_type": "markdown",
   "metadata": {},
   "source": [
    "\n",
    "<h3>Total Cases vs Population </h3>\n",
    "\n",
    "* Shows what percentage of population infected with Covid"
   ]
  },
  {
   "cell_type": "code",
   "execution_count": null,
   "metadata": {},
   "outputs": [],
   "source": [
    "\n",
    "death_data['case_percentage_per_population'] = (death_data['total_cases']/death_data['population'])*100\n",
    "death_data.fillna(0).head()"
   ]
  },
  {
   "cell_type": "markdown",
   "metadata": {},
   "source": [
    "<h3>Total Cases vs Total Deaths</h3>\n",
    "\n",
    "* Shows probability of dying if you contract covid in your country as of that day.\n",
    "\n"
   ]
  },
  {
   "cell_type": "code",
   "execution_count": null,
   "metadata": {},
   "outputs": [],
   "source": [
    "death_data['probability_of_death'] = (death_data['total_deaths']/death_data['total_cases'])*100\n",
    "death_data.fillna(0).head()"
   ]
  },
  {
   "cell_type": "markdown",
   "metadata": {},
   "source": [
    "* Shows countries with Highest Infection Rate per thier Population"
   ]
  },
  {
   "cell_type": "code",
   "execution_count": null,
   "metadata": {},
   "outputs": [],
   "source": [
    "death_data.sort_values(by='case_percentage_per_population',ascending=False)"
   ]
  },
  {
   "cell_type": "markdown",
   "metadata": {},
   "source": [
    "* Shows countries with Highest Death Count per Population"
   ]
  },
  {
   "cell_type": "code",
   "execution_count": null,
   "metadata": {},
   "outputs": [],
   "source": [
    "country_death_count = death_data.groupby([\"location\",\"population\"])[\"new_deaths\"].sum()\n",
    "country_death_count.sort_values(ascending=False)"
   ]
  },
  {
   "cell_type": "markdown",
   "metadata": {},
   "source": [
    "<h3>Continent Analysis</h3>\n",
    "\n",
    "* Showing contintents with the highest death count per population"
   ]
  },
  {
   "cell_type": "code",
   "execution_count": null,
   "metadata": {},
   "outputs": [],
   "source": [
    "continent_death_count = pd.DataFrame()\n",
    "continent_death_count[\"number_of_death\"]=death_data.groupby([\"continent\"])[\"new_deaths\"].sum()"
   ]
  },
  {
   "cell_type": "code",
   "execution_count": null,
   "metadata": {},
   "outputs": [],
   "source": [
    "continent_death_count.reset_index()"
   ]
  },
  {
   "cell_type": "markdown",
   "metadata": {},
   "source": [
    "* Total cases VS Total Death for each continent"
   ]
  },
  {
   "cell_type": "code",
   "execution_count": null,
   "metadata": {},
   "outputs": [],
   "source": [
    "death_percentage_for_continents =(death_data.groupby(\"continent\")[\"new_deaths\"].sum() / death_data.groupby(\"continent\")[\"new_cases\"].sum())*100\n",
    "death_percentage_for_continents.sort_values(ascending=False)"
   ]
  },
  {
   "cell_type": "markdown",
   "metadata": {},
   "source": [
    "<h3> Global Death Numbers </h3>"
   ]
  },
  {
   "cell_type": "code",
   "execution_count": null,
   "metadata": {},
   "outputs": [],
   "source": [
    "global_death_percentage = (death_data['new_deaths'].sum()/death_data['new_cases'].sum())*100\n",
    "print(\"Total Cases : \",death_data['new_cases'].sum(),\"\\nTotal Deaths : \",death_data['new_deaths'].sum(),\"\\nDeath Percentage : \",global_death_percentage)"
   ]
  },
  {
   "cell_type": "markdown",
   "metadata": {},
   "source": [
    "<center>\n",
    "<h2> VACINATION CENCUS ANALYSIS</h2>\n",
    "</center>"
   ]
  },
  {
   "cell_type": "markdown",
   "metadata": {},
   "source": [
    "* Selecting Columns for Analysis"
   ]
  },
  {
   "cell_type": "code",
   "execution_count": null,
   "metadata": {},
   "outputs": [],
   "source": [
    "vacination_data = vacination_data[['continent','location','date','population','new_vaccinations']]\n",
    "vacination_data.replace([np.inf, -np.inf], np.nan, inplace=True)\n",
    "vacination_data.fillna(0).head()"
   ]
  },
  {
   "cell_type": "markdown",
   "metadata": {},
   "source": [
    "<h3>Total Population vs Vaccinations(CONTINENT)</h3>\n",
    "\n",
    "* Shows Percentage of Population that has recieved at least one Covid Vaccine"
   ]
  },
  {
   "cell_type": "code",
   "execution_count": null,
   "metadata": {},
   "outputs": [],
   "source": [
    "continent_vaccination =(vacination_data.groupby(\"continent\")[\"new_vaccinations\"].sum() / vacination_data.groupby(\"continent\")[\"population\"].sum())*100\n",
    "continent_vaccination.sort_values(ascending=False)"
   ]
  },
  {
   "cell_type": "code",
   "execution_count": null,
   "metadata": {},
   "outputs": [],
   "source": []
  },
  {
   "cell_type": "markdown",
   "metadata": {},
   "source": []
  },
  {
   "cell_type": "markdown",
   "metadata": {},
   "source": [
    "<h3>Total Population vs Vaccinations(Country)</h3>\n",
    "\n",
    "* Shows Percentage of Population that has recieved at least one Covid Vaccine"
   ]
  },
  {
   "cell_type": "code",
   "execution_count": null,
   "metadata": {},
   "outputs": [],
   "source": [
    "country_vaccination =(vacination_data.groupby(\"location\")[\"new_vaccinations\"].sum() / vacination_data.groupby(\"location\")[\"population\"].sum())*100\n",
    "country_vaccination.replace([np.inf, -np.inf], np.nan, inplace=True)\n",
    "country_vaccination.sort_values(ascending=False).head()"
   ]
  },
  {
   "cell_type": "markdown",
   "metadata": {},
   "source": [
    "<center><h2>Creating tables for Visualization</h2></center>"
   ]
  },
  {
   "cell_type": "code",
   "execution_count": null,
   "metadata": {},
   "outputs": [],
   "source": [
    "continent_table = pd.DataFrame()\n",
    "world_table = pd.DataFrame()"
   ]
  },
  {
   "cell_type": "code",
   "execution_count": null,
   "metadata": {},
   "outputs": [],
   "source": [
    "total_cases = death_data[\"new_cases\"].sum()\n",
    "total_deaths = death_data[\"new_deaths\"].sum()\n",
    "print(total_cases,\"\\n\",total_deaths)"
   ]
  },
  {
   "cell_type": "code",
   "execution_count": null,
   "metadata": {},
   "outputs": [],
   "source": [
    "print(type(total_cases))"
   ]
  },
  {
   "cell_type": "code",
   "execution_count": null,
   "metadata": {},
   "outputs": [],
   "source": [
    "world_table = \n"
   ]
  }
 ],
 "metadata": {
  "interpreter": {
   "hash": "a8c9a0f063b84121a29dc18058e3ab3ab773676936e4cc323b0ecc17092f5012"
  },
  "kernelspec": {
   "display_name": "Python 3.10.3 64-bit",
   "language": "python",
   "name": "python3"
  },
  "language_info": {
   "codemirror_mode": {
    "name": "ipython",
    "version": 3
   },
   "file_extension": ".py",
   "mimetype": "text/x-python",
   "name": "python",
   "nbconvert_exporter": "python",
   "pygments_lexer": "ipython3",
   "version": "3.10.3"
  },
  "orig_nbformat": 4
 },
 "nbformat": 4,
 "nbformat_minor": 2
}
