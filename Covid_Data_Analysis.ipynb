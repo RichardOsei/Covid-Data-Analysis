{
 "cells": [
  {
   "cell_type": "markdown",
   "metadata": {},
   "source": [
    "<center>\n",
    "<h2> COVID 19 WORLD DATA ANALYSIS</h2>\n",
    "</center>"
   ]
  },
  {
   "cell_type": "code",
   "execution_count": null,
   "metadata": {},
   "outputs": [],
   "source": [
    "import numpy as np  \n",
    "import pandas as pd"
   ]
  },
  {
   "cell_type": "markdown",
   "metadata": {},
   "source": [
    "<h2>Reading data into Pandas Dataframe</h2>\n",
    "\n",
    "* Dataset: Our Word In Data - [Coronavirus Pandemic Data](https://ourworldindata.org/coronavirus)<br>\n",
    "* The dataset contains global covid 19 case census.\n"
   ]
  },
  {
   "cell_type": "code",
   "execution_count": null,
   "metadata": {},
   "outputs": [],
   "source": [
    "death_data = pd.read_csv(\"covid-death-data.csv\")\n",
    "death_data.fillna(0)"
   ]
  },
  {
   "cell_type": "markdown",
   "metadata": {},
   "source": [
    "* Cleaning location column by removing combined cencus"
   ]
  },
  {
   "cell_type": "code",
   "execution_count": null,
   "metadata": {},
   "outputs": [],
   "source": [
    "death_data=death_data[death_data[\"location\"].str.contains(\"World\")==False]\n",
    "death_data=death_data[death_data[\"location\"].str.contains(\"Upper middle income\")==False]\n",
    "death_data=death_data[death_data[\"location\"].str.contains(\"High income\")==False]\n",
    "death_data=death_data[death_data[\"location\"].str.contains(\"Europe\")==False]\n",
    "death_data=death_data[death_data[\"location\"].str.contains(\"Africa\")==False]\n",
    "death_data=death_data[death_data[\"location\"].str.contains(\"Asia\")==False]\n",
    "death_data=death_data[death_data[\"location\"].str.contains(\"South America\")==False]\n",
    "death_data=death_data[death_data[\"location\"].str.contains(\"North America\")==False]\n",
    "death_data=death_data[death_data[\"location\"].str.contains(\"Lower middle income\")==False]"
   ]
  },
  {
   "cell_type": "markdown",
   "metadata": {},
   "source": [
    "Selecting Columns for Analysis"
   ]
  },
  {
   "cell_type": "code",
   "execution_count": null,
   "metadata": {},
   "outputs": [],
   "source": [
    "data_sample = death_data[['continent','location','date','total_cases','new_cases','total_deaths','population']]\n",
    "data_sample.fillna(0)"
   ]
  },
  {
   "cell_type": "markdown",
   "metadata": {},
   "source": [
    "*   Total Cases vs Total Deaths<br>\n",
    "*   Shows likelihood of dying if you contract covid in your country"
   ]
  },
  {
   "cell_type": "code",
   "execution_count": null,
   "metadata": {},
   "outputs": [],
   "source": [
    "death_percentage = (data_sample['total_deaths']/data_sample['total_cases'])*100\n",
    "death_percentage.fillna(0)"
   ]
  },
  {
   "cell_type": "markdown",
   "metadata": {},
   "source": [
    "* Total Cases vs Population\n",
    "* Shows what percentage of population infected with Covid"
   ]
  },
  {
   "cell_type": "code",
   "execution_count": null,
   "metadata": {},
   "outputs": [],
   "source": [
    "data_sample['case_percentage_per_population'] = (data_sample['total_cases']/data_sample['population'])*100\n",
    "data_sample.fillna(0)"
   ]
  },
  {
   "cell_type": "markdown",
   "metadata": {},
   "source": [
    "* Countries with Highest Infection Rate compared to Population"
   ]
  },
  {
   "cell_type": "code",
   "execution_count": null,
   "metadata": {},
   "outputs": [],
   "source": [
    "data_sample.sort_values(by='case_percentage_per_population',ascending=False)\n"
   ]
  },
  {
   "cell_type": "markdown",
   "metadata": {},
   "source": [
    "* Countries with Highest Death Count per Population"
   ]
  },
  {
   "cell_type": "code",
   "execution_count": null,
   "metadata": {},
   "outputs": [],
   "source": [
    "data_sample.sort_values(by='total_deaths',ascending=False)\n"
   ]
  },
  {
   "cell_type": "markdown",
   "metadata": {},
   "source": [
    "<h3>BREAKING THINGS DOWN BY CONTINENT</h3>\n",
    "\n",
    "* Showing contintents with the highest death count per population"
   ]
  },
  {
   "cell_type": "code",
   "execution_count": null,
   "metadata": {},
   "outputs": [],
   "source": [
    "continent_death_count = data_sample.groupby(\"continent\")[\"total_deaths\"].sum()\n",
    "continent_death_count.sort_values(ascending=False)"
   ]
  },
  {
   "cell_type": "markdown",
   "metadata": {},
   "source": [
    "* Total cases VS Total Death for each continent"
   ]
  },
  {
   "cell_type": "code",
   "execution_count": null,
   "metadata": {},
   "outputs": [],
   "source": [
    "death_percentage_for_continents =(data_sample.groupby(\"continent\")[\"total_deaths\"].sum() / data_sample.groupby(\"continent\")[\"total_cases\"].sum())*100\n",
    "death_percentage_for_continents.sort_values(ascending=False)"
   ]
  },
  {
   "cell_type": "markdown",
   "metadata": {},
   "source": [
    "-- Total Population vs Vaccinations\n",
    "-- Shows Percentage of Population that has recieved at least one Covid Vaccine"
   ]
  },
  {
   "cell_type": "markdown",
   "metadata": {},
   "source": []
  }
 ],
 "metadata": {
  "interpreter": {
   "hash": "a8c9a0f063b84121a29dc18058e3ab3ab773676936e4cc323b0ecc17092f5012"
  },
  "kernelspec": {
   "display_name": "Python 3.10.3 64-bit",
   "language": "python",
   "name": "python3"
  },
  "language_info": {
   "codemirror_mode": {
    "name": "ipython",
    "version": 3
   },
   "file_extension": ".py",
   "mimetype": "text/x-python",
   "name": "python",
   "nbconvert_exporter": "python",
   "pygments_lexer": "ipython3",
   "version": "3.10.3"
  },
  "orig_nbformat": 4
 },
 "nbformat": 4,
 "nbformat_minor": 2
}
