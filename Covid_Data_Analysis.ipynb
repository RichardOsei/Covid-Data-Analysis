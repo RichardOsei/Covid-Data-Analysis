{
 "cells": [
  {
   "cell_type": "markdown",
   "metadata": {},
   "source": [
    "<center>\n",
    "<h1> COVID 19 WORLD DATA ANALYSIS</h1>\n",
    "</center>"
   ]
  },
  {
   "cell_type": "code",
   "execution_count": null,
   "metadata": {},
   "outputs": [],
   "source": [
    "import numpy as np  \n",
    "import pandas as pd"
   ]
  },
  {
   "cell_type": "markdown",
   "metadata": {},
   "source": [
    "<h3>Reading data into Pandas Dataframe</h3>\n",
    "\n",
    "* Dataset: Our Word In Data - [Coronavirus Pandemic Data](https://ourworldindata.org/coronavirus)<br>\n",
    "* The dataset contains global covid 19 case census.\n"
   ]
  },
  {
   "cell_type": "code",
   "execution_count": null,
   "metadata": {},
   "outputs": [],
   "source": [
    "death_data = pd.read_csv('covid-death-data.csv')\n",
    "death_data=death_data.dropna(subset=['continent','location'])\n",
    "death_data = death_data.fillna(0)"
   ]
  },
  {
   "cell_type": "code",
   "execution_count": null,
   "metadata": {},
   "outputs": [],
   "source": [
    "vacination_data = pd.read_csv('covid-vacination-data.csv')\n",
    "vacination_data=vacination_data.dropna(subset=['continent','location'])\n",
    "vacination_data=vacination_data.fillna(0)\n"
   ]
  },
  {
   "cell_type": "markdown",
   "metadata": {},
   "source": [
    "* Cleaning unnecesarry columns for this analysis"
   ]
  },
  {
   "cell_type": "code",
   "execution_count": null,
   "metadata": {},
   "outputs": [],
   "source": [
    "death_data=death_data[death_data[\"location\"].str.contains(\"World\")==False]\n",
    "death_data=death_data[death_data[\"location\"].str.contains(\"Upper middle income\")==False]\n",
    "death_data=death_data[death_data[\"location\"].str.contains(\"High income\")==False]\n",
    "death_data=death_data[death_data[\"location\"].str.contains(\"Europe\")==False]\n",
    "death_data=death_data[death_data[\"location\"].str.contains(\"Africa\")==False]\n",
    "death_data=death_data[death_data[\"location\"].str.contains(\"Asia\")==False]\n",
    "death_data=death_data[death_data[\"location\"].str.contains(\"South America\")==False]\n",
    "death_data=death_data[death_data[\"location\"].str.contains(\"North America\")==False]\n",
    "death_data=death_data[death_data[\"location\"].str.contains(\"Lower middle income\")==False]"
   ]
  },
  {
   "cell_type": "code",
   "execution_count": null,
   "metadata": {},
   "outputs": [],
   "source": [
    "vacination_data=vacination_data[vacination_data[\"location\"].str.contains(\"World\")==False]\n",
    "vacination_data=vacination_data[vacination_data[\"location\"].str.contains(\"High income\")==False]\n",
    "vacination_data=vacination_data[vacination_data[\"location\"].str.contains(\"Upper middle income\")==False]\n",
    "vacination_data=vacination_data[vacination_data[\"location\"].str.contains(\"Lower middle income\")==False]\n",
    "vacination_data=vacination_data[vacination_data[\"location\"].str.contains(\"Africa\")==False]\n",
    "vacination_data=vacination_data[vacination_data[\"location\"].str.contains(\"Asia\")==False]\n",
    "vacination_data=vacination_data[vacination_data[\"location\"].str.contains(\"Europe\")==False]\n",
    "vacination_data=vacination_data[vacination_data[\"location\"].str.contains(\"North America\")==False]\n",
    "vacination_data=vacination_data[vacination_data[\"location\"].str.contains(\"South America\")==False]"
   ]
  },
  {
   "cell_type": "markdown",
   "metadata": {},
   "source": [
    "<center>\n",
    "<h2> CASE AND DEATH CENCUS ANALYSIS</h2>\n",
    "</center>"
   ]
  },
  {
   "cell_type": "markdown",
   "metadata": {},
   "source": [
    "* Selecting Columns for Analysis"
   ]
  },
  {
   "cell_type": "code",
   "execution_count": 10,
   "metadata": {},
   "outputs": [],
   "source": [
    "death_data = death_data[['continent','location','date','total_cases','new_cases','total_deaths','new_deaths','population']]\n",
    "death_data['infection_rate_per_day']=(death_data['total_cases']/death_data['population'])*100\n"
   ]
  },
  {
   "cell_type": "markdown",
   "metadata": {},
   "source": [
    "\n",
    "<h3>Total Cases vs Population </h3>\n",
    "\n",
    "* Shows what percentage of population infected with Covid per day."
   ]
  },
  {
   "cell_type": "code",
   "execution_count": 17,
   "metadata": {},
   "outputs": [
    {
     "data": {
      "text/html": [
       "<div>\n",
       "<style scoped>\n",
       "    .dataframe tbody tr th:only-of-type {\n",
       "        vertical-align: middle;\n",
       "    }\n",
       "\n",
       "    .dataframe tbody tr th {\n",
       "        vertical-align: top;\n",
       "    }\n",
       "\n",
       "    .dataframe thead th {\n",
       "        text-align: right;\n",
       "    }\n",
       "</style>\n",
       "<table border=\"1\" class=\"dataframe\">\n",
       "  <thead>\n",
       "    <tr style=\"text-align: right;\">\n",
       "      <th></th>\n",
       "      <th>continent</th>\n",
       "      <th>location</th>\n",
       "      <th>date</th>\n",
       "      <th>total_cases</th>\n",
       "      <th>new_cases</th>\n",
       "      <th>total_deaths</th>\n",
       "      <th>new_deaths</th>\n",
       "      <th>population</th>\n",
       "      <th>infection_rate_per_day</th>\n",
       "    </tr>\n",
       "  </thead>\n",
       "  <tbody>\n",
       "    <tr>\n",
       "      <th>0</th>\n",
       "      <td>Asia</td>\n",
       "      <td>Afghanistan</td>\n",
       "      <td>24/02/2020</td>\n",
       "      <td>5.0</td>\n",
       "      <td>5.0</td>\n",
       "      <td>0.0</td>\n",
       "      <td>0.0</td>\n",
       "      <td>39835428.0</td>\n",
       "      <td>0.000013</td>\n",
       "    </tr>\n",
       "    <tr>\n",
       "      <th>536</th>\n",
       "      <td>Asia</td>\n",
       "      <td>Afghanistan</td>\n",
       "      <td>13/08/2021</td>\n",
       "      <td>151770.0</td>\n",
       "      <td>207.0</td>\n",
       "      <td>7000.0</td>\n",
       "      <td>12.0</td>\n",
       "      <td>39835428.0</td>\n",
       "      <td>0.380993</td>\n",
       "    </tr>\n",
       "    <tr>\n",
       "      <th>537</th>\n",
       "      <td>Asia</td>\n",
       "      <td>Afghanistan</td>\n",
       "      <td>14/08/2021</td>\n",
       "      <td>151941.0</td>\n",
       "      <td>171.0</td>\n",
       "      <td>7010.0</td>\n",
       "      <td>10.0</td>\n",
       "      <td>39835428.0</td>\n",
       "      <td>0.381422</td>\n",
       "    </tr>\n",
       "    <tr>\n",
       "      <th>538</th>\n",
       "      <td>Asia</td>\n",
       "      <td>Afghanistan</td>\n",
       "      <td>15/08/2021</td>\n",
       "      <td>152033.0</td>\n",
       "      <td>92.0</td>\n",
       "      <td>7021.0</td>\n",
       "      <td>11.0</td>\n",
       "      <td>39835428.0</td>\n",
       "      <td>0.381653</td>\n",
       "    </tr>\n",
       "    <tr>\n",
       "      <th>539</th>\n",
       "      <td>Asia</td>\n",
       "      <td>Afghanistan</td>\n",
       "      <td>16/08/2021</td>\n",
       "      <td>152142.0</td>\n",
       "      <td>109.0</td>\n",
       "      <td>7025.0</td>\n",
       "      <td>4.0</td>\n",
       "      <td>39835428.0</td>\n",
       "      <td>0.381926</td>\n",
       "    </tr>\n",
       "    <tr>\n",
       "      <th>...</th>\n",
       "      <td>...</td>\n",
       "      <td>...</td>\n",
       "      <td>...</td>\n",
       "      <td>...</td>\n",
       "      <td>...</td>\n",
       "      <td>...</td>\n",
       "      <td>...</td>\n",
       "      <td>...</td>\n",
       "      <td>...</td>\n",
       "    </tr>\n",
       "    <tr>\n",
       "      <th>186573</th>\n",
       "      <td>Africa</td>\n",
       "      <td>Zimbabwe</td>\n",
       "      <td>09/12/2020</td>\n",
       "      <td>11007.0</td>\n",
       "      <td>95.0</td>\n",
       "      <td>304.0</td>\n",
       "      <td>1.0</td>\n",
       "      <td>15092171.0</td>\n",
       "      <td>0.072932</td>\n",
       "    </tr>\n",
       "    <tr>\n",
       "      <th>186574</th>\n",
       "      <td>Africa</td>\n",
       "      <td>Zimbabwe</td>\n",
       "      <td>10/12/2020</td>\n",
       "      <td>11081.0</td>\n",
       "      <td>74.0</td>\n",
       "      <td>305.0</td>\n",
       "      <td>1.0</td>\n",
       "      <td>15092171.0</td>\n",
       "      <td>0.073422</td>\n",
       "    </tr>\n",
       "    <tr>\n",
       "      <th>186575</th>\n",
       "      <td>Africa</td>\n",
       "      <td>Zimbabwe</td>\n",
       "      <td>11/12/2020</td>\n",
       "      <td>11162.0</td>\n",
       "      <td>81.0</td>\n",
       "      <td>306.0</td>\n",
       "      <td>1.0</td>\n",
       "      <td>15092171.0</td>\n",
       "      <td>0.073959</td>\n",
       "    </tr>\n",
       "    <tr>\n",
       "      <th>186577</th>\n",
       "      <td>Africa</td>\n",
       "      <td>Zimbabwe</td>\n",
       "      <td>13/12/2020</td>\n",
       "      <td>11246.0</td>\n",
       "      <td>27.0</td>\n",
       "      <td>307.0</td>\n",
       "      <td>0.0</td>\n",
       "      <td>15092171.0</td>\n",
       "      <td>0.074515</td>\n",
       "    </tr>\n",
       "    <tr>\n",
       "      <th>187096</th>\n",
       "      <td>Africa</td>\n",
       "      <td>Zimbabwe</td>\n",
       "      <td>16/05/2022</td>\n",
       "      <td>249431.0</td>\n",
       "      <td>225.0</td>\n",
       "      <td>5484.0</td>\n",
       "      <td>2.0</td>\n",
       "      <td>15092171.0</td>\n",
       "      <td>1.652718</td>\n",
       "    </tr>\n",
       "  </tbody>\n",
       "</table>\n",
       "<p>174582 rows × 9 columns</p>\n",
       "</div>"
      ],
      "text/plain": [
       "       continent     location        date  total_cases  new_cases  \\\n",
       "0           Asia  Afghanistan  24/02/2020          5.0        5.0   \n",
       "536         Asia  Afghanistan  13/08/2021     151770.0      207.0   \n",
       "537         Asia  Afghanistan  14/08/2021     151941.0      171.0   \n",
       "538         Asia  Afghanistan  15/08/2021     152033.0       92.0   \n",
       "539         Asia  Afghanistan  16/08/2021     152142.0      109.0   \n",
       "...          ...          ...         ...          ...        ...   \n",
       "186573    Africa     Zimbabwe  09/12/2020      11007.0       95.0   \n",
       "186574    Africa     Zimbabwe  10/12/2020      11081.0       74.0   \n",
       "186575    Africa     Zimbabwe  11/12/2020      11162.0       81.0   \n",
       "186577    Africa     Zimbabwe  13/12/2020      11246.0       27.0   \n",
       "187096    Africa     Zimbabwe  16/05/2022     249431.0      225.0   \n",
       "\n",
       "        total_deaths  new_deaths  population  infection_rate_per_day  \n",
       "0                0.0         0.0  39835428.0                0.000013  \n",
       "536           7000.0        12.0  39835428.0                0.380993  \n",
       "537           7010.0        10.0  39835428.0                0.381422  \n",
       "538           7021.0        11.0  39835428.0                0.381653  \n",
       "539           7025.0         4.0  39835428.0                0.381926  \n",
       "...              ...         ...         ...                     ...  \n",
       "186573         304.0         1.0  15092171.0                0.072932  \n",
       "186574         305.0         1.0  15092171.0                0.073422  \n",
       "186575         306.0         1.0  15092171.0                0.073959  \n",
       "186577         307.0         0.0  15092171.0                0.074515  \n",
       "187096        5484.0         2.0  15092171.0                1.652718  \n",
       "\n",
       "[174582 rows x 9 columns]"
      ]
     },
     "execution_count": 17,
     "metadata": {},
     "output_type": "execute_result"
    }
   ],
   "source": [
    "population_infected_per_day = death_data.sort_values(by = ['location'])\n",
    "population_infected_per_day"
   ]
  },
  {
   "cell_type": "markdown",
   "metadata": {},
   "source": [
    "* Shows countries with Highest Infection Rate per thier Population"
   ]
  },
  {
   "cell_type": "code",
   "execution_count": null,
   "metadata": {},
   "outputs": [],
   "source": [
    "\n",
    "highest_infection_rate_population=death_data.groupby(\"location\")[\"case_percentage_per_population\"].last()\n",
    "highest_infection_rate_population"
   ]
  },
  {
   "cell_type": "markdown",
   "metadata": {},
   "source": [
    "<h3>Total Cases vs Total Deaths</h3>\n",
    "\n",
    "* Shows probability of dying if you contract covid in your country as of that day.\n",
    "\n"
   ]
  },
  {
   "cell_type": "code",
   "execution_count": null,
   "metadata": {},
   "outputs": [],
   "source": [
    "death_data['probability_of_death'] = (death_data['total_deaths']/death_data['total_cases'])*100\n",
    "death_data"
   ]
  },
  {
   "cell_type": "markdown",
   "metadata": {},
   "source": [
    "* Shows countries with Highest Death Count per Population"
   ]
  },
  {
   "cell_type": "code",
   "execution_count": null,
   "metadata": {},
   "outputs": [],
   "source": [
    "country_death_count = death_data.groupby([\"location\",\"population\"])[\"new_deaths\"].sum()\n",
    "country_death_count.sort_values(ascending=False)"
   ]
  },
  {
   "cell_type": "markdown",
   "metadata": {},
   "source": [
    "<h3>Continent Analysis</h3>\n",
    "\n",
    "* Showing contintents with the highest death count per population"
   ]
  },
  {
   "cell_type": "code",
   "execution_count": null,
   "metadata": {},
   "outputs": [],
   "source": [
    "continent_death_count = pd.DataFrame()\n",
    "continent_death_count[\"number_of_death\"]=death_data.groupby([\"continent\"])[\"new_deaths\"].sum()"
   ]
  },
  {
   "cell_type": "code",
   "execution_count": null,
   "metadata": {},
   "outputs": [],
   "source": [
    "continent_death_count.reset_index()"
   ]
  },
  {
   "cell_type": "markdown",
   "metadata": {},
   "source": [
    "* Total cases VS Total Death for each continent"
   ]
  },
  {
   "cell_type": "code",
   "execution_count": null,
   "metadata": {},
   "outputs": [],
   "source": [
    "death_percentage_for_continents =(death_data.groupby(\"continent\")[\"new_deaths\"].sum() / death_data.groupby(\"continent\")[\"new_cases\"].sum())*100\n",
    "death_percentage_for_continents.sort_values(ascending=False)"
   ]
  },
  {
   "cell_type": "markdown",
   "metadata": {},
   "source": [
    "<h3> Global Death Numbers </h3>"
   ]
  },
  {
   "cell_type": "code",
   "execution_count": null,
   "metadata": {},
   "outputs": [],
   "source": [
    "global_death_percentage = (death_data['new_deaths'].sum()/death_data['new_cases'].sum())*100\n",
    "print(\"Total Cases : \",death_data['new_cases'].sum(),\"\\nTotal Deaths : \",death_data['new_deaths'].sum(),\"\\nDeath Percentage : \",global_death_percentage)"
   ]
  },
  {
   "cell_type": "markdown",
   "metadata": {},
   "source": [
    "<center>\n",
    "<h2> VACINATION CENCUS ANALYSIS</h2>\n",
    "</center>"
   ]
  },
  {
   "cell_type": "markdown",
   "metadata": {},
   "source": [
    "* Selecting Columns for Analysis"
   ]
  },
  {
   "cell_type": "code",
   "execution_count": null,
   "metadata": {},
   "outputs": [],
   "source": [
    "vacination_data = vacination_data[['continent','location','date','population','new_vaccinations','people_fully_vaccinated']]\n",
    "vacination_data.replace([np.inf, -np.inf], np.nan, inplace=True)\n",
    "vacination_data.fillna(0).head()"
   ]
  },
  {
   "cell_type": "markdown",
   "metadata": {},
   "source": [
    "<h3>Total Population vs Vaccinations(CONTINENT)</h3>\n",
    "\n",
    "* Shows Percentage of Population that has recieved at least one Covid Vaccine"
   ]
  },
  {
   "cell_type": "code",
   "execution_count": null,
   "metadata": {},
   "outputs": [],
   "source": [
    "continent_vaccination =(vacination_data.groupby(\"continent\")[\"new_vaccinations\"].sum() / vacination_data.groupby(\"continent\")[\"population\"].sum())*100\n",
    "continent_vaccination.sort_values(ascending=False)"
   ]
  },
  {
   "cell_type": "markdown",
   "metadata": {},
   "source": []
  },
  {
   "cell_type": "markdown",
   "metadata": {},
   "source": [
    "<h3>Total Population vs Vaccinations(Country)</h3>\n",
    "\n",
    "* Shows Percentage of Population that has recieved at least one Covid Vaccine"
   ]
  },
  {
   "cell_type": "code",
   "execution_count": null,
   "metadata": {},
   "outputs": [],
   "source": [
    "country_vaccination = (vacination_data.groupby(\"location\")[\"new_vaccinations\"].sum() / vacination_data.groupby(\"location\")[\"population\"].sum())*100\n",
    "country_vaccination.replace([np.inf, -np.inf], np.nan, inplace=True)\n",
    "country_vaccination.sort_values(ascending=False).head()"
   ]
  },
  {
   "cell_type": "markdown",
   "metadata": {},
   "source": [
    "<h3>Gobal Numbers</h3>"
   ]
  },
  {
   "cell_type": "code",
   "execution_count": null,
   "metadata": {},
   "outputs": [],
   "source": [
    "global_total_vacination = vacination_data[\"new_vaccinations\"].sum()"
   ]
  },
  {
   "cell_type": "markdown",
   "metadata": {},
   "source": [
    "<center><h2>Creating tables for Visualization</h2></center>"
   ]
  },
  {
   "cell_type": "code",
   "execution_count": null,
   "metadata": {},
   "outputs": [],
   "source": [
    "#Getting Countries and their population\n",
    "country = pd.DataFrame()\n",
    "country[\"population\"] = death_data.groupby(\"location\")[\"population\"].last()\n",
    "country =country.reset_index()\n",
    "country"
   ]
  },
  {
   "cell_type": "code",
   "execution_count": null,
   "metadata": {},
   "outputs": [],
   "source": [
    "populations = country['population'].sum()\n",
    "all_vacs = vacination_data['people_fully_vaccinated'].max()\n",
    "print(populations,'\\n',all_vacs)"
   ]
  },
  {
   "cell_type": "markdown",
   "metadata": {},
   "source": [
    "* World Table"
   ]
  },
  {
   "cell_type": "code",
   "execution_count": null,
   "metadata": {},
   "outputs": [],
   "source": [
    "world_table = pd.DataFrame()\n",
    "world_table[\"Population\"]=[country[\"population\"].sum()]\n",
    "world_table[\"Total Cases\"]= [death_data['new_cases'].sum()]\n",
    "world_table[\"Total Deaths\"]=[death_data[\"new_deaths\"].sum()]\n",
    "world_table[\"Percentage of Death\"] = [global_death_percentage]\n",
    "world_table[\"Total Vaccinated\"] = [vacination_data['people_fully_vaccinated'].sum()]\n",
    "world_table[\"Percentage Vacinated\"] = [(global_total_vacination/country[\"population\"].sum())]\n",
    "world_table"
   ]
  },
  {
   "cell_type": "markdown",
   "metadata": {},
   "source": [
    "* Continent Table"
   ]
  },
  {
   "cell_type": "code",
   "execution_count": null,
   "metadata": {},
   "outputs": [],
   "source": [
    "continent_table = pd.DataFrame()\n",
    "continent_table = continent_death_count.reset_index()\n",
    "continent_table"
   ]
  },
  {
   "cell_type": "markdown",
   "metadata": {},
   "source": [
    "* Country Table"
   ]
  },
  {
   "cell_type": "code",
   "execution_count": null,
   "metadata": {},
   "outputs": [],
   "source": [
    "country_table = pd.DataFrame()\n",
    "country_table['cases'] =death_data.groupby(\"location\")[\"total_cases\"].max()\n",
    "country_table=country_table.reset_index()\n",
    "country_table['population'] = country['population']\n",
    "country_table['percentagePerPopulation']=(country_table['cases']/country_table['population'])*100\n",
    "country_table=country_table.fillna(0)\n",
    "country_table.sort_values(by=['percentagePerPopulation'], ascending=False)"
   ]
  },
  {
   "cell_type": "code",
   "execution_count": null,
   "metadata": {},
   "outputs": [],
   "source": [
    "world_table.to_csv('globaldata.csv')\n",
    "continent_table.to_csv('continentdata.csv')\n",
    "country_table.to_csv('countrydata.csv')"
   ]
  }
 ],
 "metadata": {
  "interpreter": {
   "hash": "a8c9a0f063b84121a29dc18058e3ab3ab773676936e4cc323b0ecc17092f5012"
  },
  "kernelspec": {
   "display_name": "Python 3.10.3 64-bit",
   "language": "python",
   "name": "python3"
  },
  "language_info": {
   "codemirror_mode": {
    "name": "ipython",
    "version": 3
   },
   "file_extension": ".py",
   "mimetype": "text/x-python",
   "name": "python",
   "nbconvert_exporter": "python",
   "pygments_lexer": "ipython3",
   "version": "3.10.3"
  },
  "orig_nbformat": 4
 },
 "nbformat": 4,
 "nbformat_minor": 2
}
